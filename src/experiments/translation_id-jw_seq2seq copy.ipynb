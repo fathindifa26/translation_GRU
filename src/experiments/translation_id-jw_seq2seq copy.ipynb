{
 "cells": [
  {
   "cell_type": "code",
   "execution_count": 1,
   "metadata": {},
   "outputs": [
    {
     "name": "stderr",
     "output_type": "stream",
     "text": [
      "/opt/homebrew/anaconda3/envs/gru_translation/lib/python3.10/site-packages/tqdm/auto.py:21: TqdmWarning: IProgress not found. Please update jupyter and ipywidgets. See https://ipywidgets.readthedocs.io/en/stable/user_install.html\n",
      "  from .autonotebook import tqdm as notebook_tqdm\n"
     ]
    }
   ],
   "source": [
    "import torch\n",
    "import torch.nn as nn\n",
    "import torch.optim as optim\n",
    "import torch.nn.functional as F\n",
    "import random\n",
    "import numpy as np\n",
    "import torchtext\n",
    "import tqdm\n",
    "import yaml "
   ]
  },
  {
   "cell_type": "code",
   "execution_count": 2,
   "metadata": {},
   "outputs": [],
   "source": [
    "import sys\n",
    "import os\n",
    "sys.path.append(os.path.abspath(os.path.join(os.getcwd(), \"../\")))\n",
    "\n",
    "from data.preprocessing import preprocess_dataset  \n",
    "from data.data_loader import get_data_loader\n",
    "from utils.training import init_model, train_fn, evaluate_fn\n",
    "from utils.inference import translate_sentence\n"
   ]
  },
  {
   "cell_type": "markdown",
   "metadata": {},
   "source": [
    "# Import Dataset"
   ]
  },
  {
   "cell_type": "code",
   "execution_count": 3,
   "metadata": {},
   "outputs": [],
   "source": [
    "# 📌 **Load konfigurasi YAML**\n",
    "with open(os.path.abspath(\"../../configs/gru_seq2seq.yaml\"), \"r\") as f:\n",
    "    config = yaml.safe_load(f)"
   ]
  },
  {
   "cell_type": "code",
   "execution_count": 11,
   "metadata": {},
   "outputs": [
    {
     "name": "stderr",
     "output_type": "stream",
     "text": [
      "Generating train split: 500 examples [00:00, 5609.79 examples/s]\n",
      "Generating validation split: 100 examples [00:00, 6424.21 examples/s]\n",
      "Generating test split: 400 examples [00:00, 8124.32 examples/s]\n"
     ]
    },
    {
     "data": {
      "text/plain": [
       "DatasetDict({\n",
       "    train: Dataset({\n",
       "        features: ['id', 'text_1', 'text_2', 'text_1_lang', 'text_2_lang'],\n",
       "        num_rows: 500\n",
       "    })\n",
       "    validation: Dataset({\n",
       "        features: ['id', 'text_1', 'text_2', 'text_1_lang', 'text_2_lang'],\n",
       "        num_rows: 100\n",
       "    })\n",
       "    test: Dataset({\n",
       "        features: ['id', 'text_1', 'text_2', 'text_1_lang', 'text_2_lang'],\n",
       "        num_rows: 400\n",
       "    })\n",
       "})"
      ]
     },
     "execution_count": 11,
     "metadata": {},
     "output_type": "execute_result"
    }
   ],
   "source": [
    "from datasets import load_dataset\n",
    "\n",
    "dataset = load_dataset(\"IndoNLP/NusaX-MT\", \"jav-ind\", trust_remote_code=True)\n",
    "dataset"
   ]
  },
  {
   "cell_type": "code",
   "execution_count": 5,
   "metadata": {},
   "outputs": [
    {
     "name": "stdout",
     "output_type": "stream",
     "text": [
      "DatasetDict({\n",
      "    train: Dataset({\n",
      "        features: ['indonesia', 'jawa'],\n",
      "        num_rows: 800\n",
      "    })\n",
      "    validation: Dataset({\n",
      "        features: ['indonesia', 'jawa'],\n",
      "        num_rows: 100\n",
      "    })\n",
      "    test: Dataset({\n",
      "        features: ['indonesia', 'jawa'],\n",
      "        num_rows: 100\n",
      "    })\n",
      "})\n"
     ]
    }
   ],
   "source": [
    "from datasets import load_from_disk\n",
    "import os\n",
    "\n",
    "dataset_path = os.path.abspath(config[\"data\"][\"dataset_path\"])\n",
    "\n",
    "dataset = load_from_disk(dataset_path)\n",
    "print(dataset)"
   ]
  },
  {
   "cell_type": "code",
   "execution_count": 11,
   "metadata": {},
   "outputs": [],
   "source": [
    "train_data, valid_data, test_data = (\n",
    "    dataset[\"train\"],\n",
    "    dataset[\"validation\"],\n",
    "    dataset[\"test\"],\n",
    ")"
   ]
  },
  {
   "cell_type": "code",
   "execution_count": 12,
   "metadata": {},
   "outputs": [
    {
     "data": {
      "text/plain": [
       "{'indonesia': 'Mau bikin postingan yang isinya mengedukasi customers gojek.',\n",
       " 'jawa': 'Pengin nggawe postingan sing isine ngajari pelanggan Gojek.'}"
      ]
     },
     "execution_count": 12,
     "metadata": {},
     "output_type": "execute_result"
    }
   ],
   "source": [
    "train_data[5]"
   ]
  },
  {
   "cell_type": "markdown",
   "metadata": {},
   "source": [
    "# Preprocessing"
   ]
  },
  {
   "cell_type": "code",
   "execution_count": 13,
   "metadata": {},
   "outputs": [
    {
     "name": "stderr",
     "output_type": "stream",
     "text": [
      "Map: 100%|██████████| 800/800 [00:00<00:00, 850.79 examples/s] \n",
      "Map: 100%|██████████| 100/100 [00:00<00:00, 1255.04 examples/s]\n",
      "Map: 100%|██████████| 100/100 [00:00<00:00, 361.67 examples/s]\n"
     ]
    },
    {
     "name": "stdout",
     "output_type": "stream",
     "text": [
      "✅ Tokenisasi selesai dengan BERT tokenizer!\n"
     ]
    },
    {
     "name": "stderr",
     "output_type": "stream",
     "text": [
      "Map: 100%|██████████| 800/800 [00:00<00:00, 957.52 examples/s] \n",
      "Map: 100%|██████████| 100/100 [00:00<00:00, 2000.64 examples/s]\n",
      "Map: 100%|██████████| 100/100 [00:00<00:00, 2223.80 examples/s]"
     ]
    },
    {
     "name": "stdout",
     "output_type": "stream",
     "text": [
      "✅ Data siap digunakan dalam format PyTorch!\n"
     ]
    },
    {
     "name": "stderr",
     "output_type": "stream",
     "text": [
      "\n"
     ]
    }
   ],
   "source": [
    "# Preprocessing\n",
    "train_data, valid_data, test_data, en_vocab, id_vocab = preprocess_dataset(dataset)"
   ]
  },
  {
   "cell_type": "markdown",
   "metadata": {},
   "source": [
    "# Data Loader"
   ]
  },
  {
   "cell_type": "code",
   "execution_count": 15,
   "metadata": {},
   "outputs": [],
   "source": [
    "# Ambil indeks padding dari vocabulary\n",
    "pad_index = en_vocab[config[\"data\"][\"pad_token\"]]\n",
    "\n",
    "\n",
    "# Definisikan batch size\n",
    "batch_size = config[\"training\"][\"batch_size\"]\n",
    "\n",
    "# Buat DataLoader untuk train, valid, dan test\n",
    "train_loader = get_data_loader(train_data, batch_size=batch_size, pad_index=pad_index, shuffle=True)\n",
    "valid_loader = get_data_loader(valid_data, batch_size=batch_size, pad_index=pad_index, shuffle=False)\n",
    "test_loader = get_data_loader(test_data, batch_size=batch_size, pad_index=pad_index, shuffle=False)"
   ]
  },
  {
   "cell_type": "markdown",
   "metadata": {},
   "source": [
    "# TRAIN"
   ]
  },
  {
   "cell_type": "code",
   "execution_count": 17,
   "metadata": {},
   "outputs": [
    {
     "name": "stdout",
     "output_type": "stream",
     "text": [
      "Using device: mps\n"
     ]
    },
    {
     "data": {
      "text/plain": [
       "Seq2Seq(\n",
       "  (encoder): Encoder(\n",
       "    (embedding): Embedding(2622, 512)\n",
       "    (rnn): GRU(512, 1024)\n",
       "    (dropout): Dropout(p=0.3, inplace=False)\n",
       "  )\n",
       "  (decoder): Decoder(\n",
       "    (embedding): Embedding(3113, 512)\n",
       "    (rnn): GRU(1536, 1024)\n",
       "    (fc_out): Linear(in_features=2560, out_features=3113, bias=True)\n",
       "    (dropout): Dropout(p=0.3, inplace=False)\n",
       "  )\n",
       ")"
      ]
     },
     "execution_count": 17,
     "metadata": {},
     "output_type": "execute_result"
    }
   ],
   "source": [
    "# masukin ke YAML \n",
    "config[\"model\"][\"input_dim\"] = len(id_vocab)\n",
    "config[\"model\"][\"output_dim\"] = len(en_vocab)\n",
    "\n",
    "# Inisialisasi Model\n",
    "device = torch.device(\"mps\" if torch.backends.mps.is_available() else \"cpu\")\n",
    "print(f\"Using device: {device}\")\n",
    "\n",
    "model, optimizer, criterion = init_model(\n",
    "    config[\"model\"][\"input_dim\"],\n",
    "    config[\"model\"][\"output_dim\"],\n",
    "    config[\"model\"][\"embedding_dim\"],\n",
    "    config[\"model\"][\"hidden_dim\"],\n",
    "    config[\"model\"][\"dropout\"],\n",
    "    pad_index,\n",
    "    device\n",
    ")\n",
    "\n",
    "# 📌 **Training Parameters dari YAML**\n",
    "epochs = config[\"training\"][\"epochs\"]\n",
    "clip = config[\"training\"][\"clip\"]\n",
    "teacher_forcing_initial = config[\"training\"][\"teacher_forcing_initial\"]\n",
    "teacher_forcing_final = config[\"training\"][\"teacher_forcing_final\"]\n",
    "checkpoint_path = config[\"training\"][\"checkpoint_path\"]\n",
    "patience = config[\"training\"][\"patience\"]\n",
    "patience_counter = config[\"training\"][\"patience_counter\"]\n",
    "\n",
    "model"
   ]
  },
  {
   "cell_type": "code",
   "execution_count": null,
   "metadata": {},
   "outputs": [],
   "source": [
    "# Training Loop\n",
    "best_valid_loss = float(\"inf\")\n",
    "patience = 5\n",
    "patience_counter = 0\n",
    "\n",
    "for epoch in tqdm.tqdm(range(epochs)):\n",
    "    teacher_forcing_ratio = teacher_forcing_initial - \\\n",
    "                            (teacher_forcing_initial - teacher_forcing_final) * \\\n",
    "                            (epoch / (epochs - 1))\n",
    "    \n",
    "    train_loss = train_fn(model, train_loader, optimizer, criterion, clip, teacher_forcing_ratio, device)\n",
    "    valid_loss = evaluate_fn(model, valid_loader, criterion, device)\n",
    "\n",
    "    if valid_loss < best_valid_loss:\n",
    "        best_valid_loss = valid_loss\n",
    "        torch.save(model.state_dict(), \"checkpoints/gru_model.pt\")\n",
    "        patience_counter = 0\n",
    "    else:\n",
    "        patience_counter += 1\n",
    "        if patience_counter >= patience:\n",
    "            print(f\"Early stopping at epoch {epoch + 1}\")\n",
    "            break\n",
    "\n",
    "    print(f\"Epoch {epoch+1} | Train Loss: {train_loss:.3f} | Train PPL: {np.exp(train_loss):.3f}\")\n",
    "    print(f\"Valid Loss: {valid_loss:.3f} | Valid PPL: {np.exp(valid_loss):.3f}\")\n"
   ]
  },
  {
   "cell_type": "markdown",
   "metadata": {},
   "source": [
    "# EVALUATE"
   ]
  },
  {
   "cell_type": "code",
   "execution_count": null,
   "metadata": {},
   "outputs": [],
   "source": [
    "# Evaluasi Model\n",
    "model.load_state_dict(torch.load(\"gru_model.pt\"))\n",
    "test_loss = evaluate_fn(model, test_loader, criterion, device)\n",
    "print(f\"Test Loss: {test_loss:.3f} | Test PPL: {np.exp(test_loss):.3f}\")"
   ]
  },
  {
   "cell_type": "markdown",
   "metadata": {},
   "source": []
  },
  {
   "cell_type": "code",
   "execution_count": null,
   "metadata": {},
   "outputs": [],
   "source": [
    "\n",
    "# Contoh model (Pastikan model sudah di-load sebelumnya)\n",
    "sentence = \"aku akan makan\"\n",
    "translated = translate_sentence(sentence, model, en_vocab, id_vocab, \"<sos>\", \"<eos>\", device)\n",
    "print(\"Terjemahan:\", translated)"
   ]
  }
 ],
 "metadata": {
  "kernelspec": {
   "display_name": "gru_translation",
   "language": "python",
   "name": "python3"
  },
  "language_info": {
   "codemirror_mode": {
    "name": "ipython",
    "version": 3
   },
   "file_extension": ".py",
   "mimetype": "text/x-python",
   "name": "python",
   "nbconvert_exporter": "python",
   "pygments_lexer": "ipython3",
   "version": "3.10.16"
  }
 },
 "nbformat": 4,
 "nbformat_minor": 2
}
